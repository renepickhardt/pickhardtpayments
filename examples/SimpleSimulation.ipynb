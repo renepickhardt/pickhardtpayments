{
 "cells": [
  {
   "cell_type": "code",
   "execution_count": 1,
   "metadata": {},
   "outputs": [],
   "source": [
    "import networkx as nx\n",
    "import pickhardtpayments as pp\n",
    "import random"
   ]
  },
  {
   "cell_type": "code",
   "execution_count": 2,
   "metadata": {},
   "outputs": [],
   "source": [
    "graph = pp.ChannelGraph(\"channels.sample.json\")"
   ]
  },
  {
   "cell_type": "code",
   "execution_count": 3,
   "metadata": {},
   "outputs": [],
   "source": [
    "class SimulatedOracle(pp.OracleLightningNetwork):\n",
    "    def __init__(self,channel_graph):\n",
    "        super().__init__(channel_graph)\n",
    "    \n",
    "    def conduct_payment(self,src,dest,amt):\n",
    "        if self.network.has_edge(dest, src):\n",
    "            items = self.network[src][dest]\n",
    "            for short_channel_id, channel in items.items():\n",
    "                channel = channel[\"channel\"]\n",
    "                if channel.can_forward(amt):\n",
    "                    channel.actual_liquidity = channel.actual_liquidity - amt\n",
    "                    other_channel= self.network[dest][src][short_channel_id][\"channel\"]\n",
    "                    other_channel.actual_liquidity = other_channel.actual_liquidity + amt\n",
    "                    return True\n",
    "        return False\n",
    "\n",
    "    def _next_hop(self, path):\n",
    "        \"\"\"                                                                                                 \n",
    "        generator to iterate through edges indext by node id of paths                                       \n",
    "                                                                                                            \n",
    "        The path is a list of node ids. Each call returns a tuple src, dest of an edge in the path          \n",
    "        \"\"\"\n",
    "        for i in range(1, len(path)):\n",
    "            src = path[i-1]\n",
    "            dest = path[i]\n",
    "            yield (src, dest)\n",
    "\n",
    "    \n",
    "    def settle_payment(self, path, amt):\n",
    "        channels = []\n",
    "        for src, dest in self._next_hop(path):\n",
    "            fwd = False\n",
    "            if self.network.has_edge(dest, src):\n",
    "                items = self.network[src][dest]\n",
    "                for short_channel_id, channel in items.items():\n",
    "                    channel = channel[\"channel\"]\n",
    "                    if channel.can_forward(amt):\n",
    "                        fwd = True\n",
    "                        channels.append(channel)\n",
    "                        break\n",
    "            if fwd==False:\n",
    "                return False\n",
    "        for channel in channels:\n",
    "            channel.actual_liquidity = channel.actual_liquidity - amt\n",
    "            other_channel= self.network[channel.dest][channel.src][channel.short_channel_id][\"channel\"]\n",
    "            other_channel.actual_liquidity = other_channel.actual_liquidity + amt\n",
    "        return True"
   ]
  },
  {
   "cell_type": "code",
   "execution_count": 4,
   "metadata": {},
   "outputs": [],
   "source": [
    "s = SimulatedOracle(graph)\n",
    "nodes = list(s.network.nodes())"
   ]
  },
  {
   "cell_type": "code",
   "execution_count": 5,
   "metadata": {},
   "outputs": [],
   "source": [
    "def get_payment_pair(nodes):\n",
    "    src = random.choice(nodes)\n",
    "    dest = src\n",
    "    while dest == src:\n",
    "        dest = random.choice(nodes)\n",
    "    return src, dest\n",
    "\n",
    "def generate_payment_pairs(nodes, num_pairs =1000_000):\n",
    "    res = []\n",
    "    amts = list(i for i in range(1,100))\n",
    "    for i in range(num_pairs):\n",
    "        src,dest = get_payment_pair(nodes)\n",
    "        amt = random.choice(amts)\n",
    "        res.append((src,dest,amt))\n",
    "    return res\n",
    "\n",
    "def compute_total_flows(txs,nodes):\n",
    "    flows = {n:0 for n in nodes}\n",
    "    for src,dest, amt in txs:\n",
    "        flows[src]-=amt\n",
    "        flows[dest]+=amt\n",
    "    return flows"
   ]
  },
  {
   "cell_type": "code",
   "execution_count": 6,
   "metadata": {},
   "outputs": [
    {
     "name": "stdout",
     "output_type": "stream",
     "text": [
      "{'A': 24399, 'B': -9113, 'C': 15348, 'D': -30634}\n"
     ]
    }
   ],
   "source": [
    "txs = generate_payment_pairs(nodes)\n",
    "print(compute_total_flows(txs,nodes))"
   ]
  },
  {
   "cell_type": "code",
   "execution_count": 7,
   "metadata": {},
   "outputs": [
    {
     "name": "stdout",
     "output_type": "stream",
     "text": [
      "0\n",
      "payments: 20000 failed_payment_rate: 0.0 attempts: 22360 fa: 2360 failed_attempts_rate: 0.118\n",
      "payments: 40000 failed_payment_rate: 0.0 attempts: 48483 fa: 8483 failed_attempts_rate: 0.212075\n",
      "payments: 60000 failed_payment_rate: 0.0 attempts: 75312 fa: 15312 failed_attempts_rate: 0.2552\n",
      "payments: 80000 failed_payment_rate: 0.0 attempts: 101799 fa: 21799 failed_attempts_rate: 0.2724875\n",
      "payments: 100000 failed_payment_rate: 0.0 attempts: 128249 fa: 28249 failed_attempts_rate: 0.28249\n",
      "payments: 120000 failed_payment_rate: 0.0 attempts: 154563 fa: 34563 failed_attempts_rate: 0.288025\n",
      "payments: 140000 failed_payment_rate: 0.0 attempts: 181393 fa: 41393 failed_attempts_rate: 0.2956642857142857\n",
      "payments: 160000 failed_payment_rate: 0.0 attempts: 207998 fa: 47998 failed_attempts_rate: 0.2999875\n",
      "payments: 180000 failed_payment_rate: 0.0 attempts: 234674 fa: 54674 failed_attempts_rate: 0.30374444444444443\n",
      "payments: 200000 failed_payment_rate: 0.0 attempts: 260533 fa: 60533 failed_attempts_rate: 0.302665\n",
      "payments: 220000 failed_payment_rate: 0.0 attempts: 287294 fa: 67294 failed_attempts_rate: 0.3058818181818182\n",
      "payments: 240000 failed_payment_rate: 0.0 attempts: 313161 fa: 73161 failed_attempts_rate: 0.3048375\n",
      "payments: 260000 failed_payment_rate: 0.0 attempts: 339052 fa: 79052 failed_attempts_rate: 0.30404615384615385\n",
      "payments: 280000 failed_payment_rate: 0.0 attempts: 365021 fa: 85021 failed_attempts_rate: 0.3036464285714286\n",
      "payments: 300000 failed_payment_rate: 0.0 attempts: 390940 fa: 90940 failed_attempts_rate: 0.3031333333333333\n",
      "payments: 320000 failed_payment_rate: 0.0 attempts: 417611 fa: 97611 failed_attempts_rate: 0.305034375\n",
      "payments: 340000 failed_payment_rate: 0.0 attempts: 444440 fa: 104440 failed_attempts_rate: 0.3071764705882353\n",
      "payments: 360000 failed_payment_rate: 0.0 attempts: 470959 fa: 110959 failed_attempts_rate: 0.30821944444444443\n",
      "payments: 380000 failed_payment_rate: 0.0 attempts: 497259 fa: 117259 failed_attempts_rate: 0.3085763157894737\n",
      "payments: 400000 failed_payment_rate: 0.0 attempts: 523661 fa: 123661 failed_attempts_rate: 0.3091525\n",
      "payments: 420000 failed_payment_rate: 0.0 attempts: 550081 fa: 130081 failed_attempts_rate: 0.30971666666666664\n",
      "payments: 440000 failed_payment_rate: 0.0 attempts: 576196 fa: 136196 failed_attempts_rate: 0.3095363636363636\n",
      "payments: 460000 failed_payment_rate: 0.0 attempts: 602841 fa: 142841 failed_attempts_rate: 0.31052391304347826\n",
      "payments: 480000 failed_payment_rate: 0.0 attempts: 629731 fa: 149731 failed_attempts_rate: 0.3119395833333333\n",
      "payments: 500000 failed_payment_rate: 0.0 attempts: 656280 fa: 156280 failed_attempts_rate: 0.31256\n",
      "payments: 520000 failed_payment_rate: 0.0 attempts: 682731 fa: 162731 failed_attempts_rate: 0.3129442307692308\n",
      "payments: 540000 failed_payment_rate: 0.0 attempts: 708982 fa: 168982 failed_attempts_rate: 0.3129296296296296\n",
      "payments: 560000 failed_payment_rate: 0.0 attempts: 735327 fa: 175327 failed_attempts_rate: 0.3130839285714286\n",
      "payments: 580000 failed_payment_rate: 0.0 attempts: 761265 fa: 181265 failed_attempts_rate: 0.31252586206896554\n",
      "payments: 600000 failed_payment_rate: 0.0 attempts: 787159 fa: 187159 failed_attempts_rate: 0.31193166666666666\n",
      "payments: 620000 failed_payment_rate: 0.0 attempts: 813446 fa: 193446 failed_attempts_rate: 0.3120096774193548\n",
      "payments: 640000 failed_payment_rate: 0.0 attempts: 839079 fa: 199079 failed_attempts_rate: 0.3110609375\n",
      "payments: 660000 failed_payment_rate: 0.0 attempts: 864818 fa: 204818 failed_attempts_rate: 0.310330303030303\n",
      "payments: 680000 failed_payment_rate: 0.0 attempts: 890644 fa: 210644 failed_attempts_rate: 0.30977058823529413\n",
      "payments: 700000 failed_payment_rate: 0.0 attempts: 916758 fa: 216758 failed_attempts_rate: 0.3096542857142857\n",
      "payments: 720000 failed_payment_rate: 0.0 attempts: 942674 fa: 222674 failed_attempts_rate: 0.30926944444444443\n",
      "payments: 740000 failed_payment_rate: 0.0 attempts: 968614 fa: 228614 failed_attempts_rate: 0.30893783783783785\n",
      "payments: 760000 failed_payment_rate: 0.0 attempts: 994627 fa: 234627 failed_attempts_rate: 0.30871973684210524\n",
      "payments: 780000 failed_payment_rate: 0.0 attempts: 1020110 fa: 240110 failed_attempts_rate: 0.30783333333333335\n",
      "payments: 800000 failed_payment_rate: 0.0 attempts: 1045700 fa: 245700 failed_attempts_rate: 0.307125\n",
      "payments: 820000 failed_payment_rate: 0.0 attempts: 1071315 fa: 251315 failed_attempts_rate: 0.3064817073170732\n",
      "payments: 840000 failed_payment_rate: 0.0 attempts: 1096993 fa: 256993 failed_attempts_rate: 0.30594404761904764\n",
      "payments: 860000 failed_payment_rate: 0.0 attempts: 1122850 fa: 262850 failed_attempts_rate: 0.3056395348837209\n",
      "payments: 880000 failed_payment_rate: 0.0 attempts: 1148718 fa: 268718 failed_attempts_rate: 0.3053613636363636\n",
      "payments: 900000 failed_payment_rate: 0.0 attempts: 1174482 fa: 274482 failed_attempts_rate: 0.30498\n",
      "payments: 920000 failed_payment_rate: 0.0 attempts: 1200660 fa: 280660 failed_attempts_rate: 0.3050652173913043\n",
      "payments: 940000 failed_payment_rate: 0.0 attempts: 1226324 fa: 286324 failed_attempts_rate: 0.3046\n",
      "payments: 960000 failed_payment_rate: 0.0 attempts: 1252407 fa: 292407 failed_attempts_rate: 0.304590625\n",
      "payments: 980000 failed_payment_rate: 0.0 attempts: 1278529 fa: 298529 failed_attempts_rate: 0.3046214285714286\n",
      "payments: 1000000 failed_payment_rate: 0.0 attempts: 1304175 fa: 304175 failed_attempts_rate: 0.304175\n"
     ]
    }
   ],
   "source": [
    "uncertainty_network = pp.UncertaintyNetwork(graph)\n",
    "\n",
    "graph = nx.DiGraph()\n",
    "for src,dest,key, channel in uncertainty_network.network.edges(data = \"channel\", keys=True):\n",
    "    #channel = uncertainty_network.network[src][dest][\"channel\"]\n",
    "    graph.add_edge(src,dest,channel = channel, cost = channel.linearized_integer_routing_unit_cost())\n",
    "    #print(src,dest)\n",
    "\n",
    "\n",
    "paths = {n: {} for n in nodes}\n",
    "for n in nodes:\n",
    "    for m in nodes:\n",
    "        if n==m:\n",
    "            continue\n",
    "        #res = nx.dijkstra_path(graph, n,m,weight=\"cost\")\n",
    "        res = nx.all_simple_paths(graph,n,m,cutoff=5)\n",
    "        paths[n][m]=[p for p in res]\n",
    "        #print(res)\n",
    "cnt = 0\n",
    "print(cnt)\n",
    "suc = 0\n",
    "fail = 0\n",
    "attempts = 0\n",
    "fa = 0\n",
    "for src,dest,amt in txs:\n",
    "    #session.pickhardt_pay(src,dest,amt)\n",
    "    #res = nx.dijkstra_path(graph, src,dest,weight=\"cost\")\n",
    "    failed = True\n",
    "    for path in paths[src][dest]: \n",
    "        res = s.settle_payment(path, amt)\n",
    "        attempts +=1\n",
    "        if res == True:\n",
    "            suc +=1\n",
    "            failed = False\n",
    "            break\n",
    "        else:\n",
    "            fa +=1\n",
    "    if failed == True:\n",
    "        fail+=1\n",
    "    cnt +=1\n",
    "    if cnt % 20_000 == 0:\n",
    "        print(\"payments: {} failed_payment_rate: {} attempts: {} fa: {} failed_attempts_rate: {}\".format(\n",
    "            cnt, \n",
    "            float(fail)/cnt, \n",
    "            attempts,\n",
    "            fa,\n",
    "            float(attempts-cnt)/cnt))\n",
    "        #break\n",
    "    #print(a,b)\n",
    "    #break\n",
    "    #oracle.send_onion([src,dest],amt)"
   ]
  },
  {
   "cell_type": "code",
   "execution_count": 8,
   "metadata": {},
   "outputs": [
    {
     "data": {
      "text/plain": [
       "{'A': {'B': [['A', 'B'], ['A', 'C', 'B'], ['A', 'D', 'B']],\n",
       "  'C': [['A', 'B', 'C'], ['A', 'C'], ['A', 'D', 'B', 'C']],\n",
       "  'D': [['A', 'B', 'D'], ['A', 'C', 'B', 'D'], ['A', 'D']]},\n",
       " 'B': {'A': [['B', 'A'], ['B', 'C', 'A'], ['B', 'D', 'A']],\n",
       "  'C': [['B', 'A', 'C'], ['B', 'C'], ['B', 'D', 'A', 'C']],\n",
       "  'D': [['B', 'A', 'D'], ['B', 'C', 'A', 'D'], ['B', 'D']]},\n",
       " 'C': {'A': [['C', 'B', 'A'], ['C', 'B', 'D', 'A'], ['C', 'A']],\n",
       "  'B': [['C', 'B'], ['C', 'A', 'B'], ['C', 'A', 'D', 'B']],\n",
       "  'D': [['C', 'B', 'A', 'D'],\n",
       "   ['C', 'B', 'D'],\n",
       "   ['C', 'A', 'B', 'D'],\n",
       "   ['C', 'A', 'D']]},\n",
       " 'D': {'A': [['D', 'A'], ['D', 'B', 'A'], ['D', 'B', 'C', 'A']],\n",
       "  'B': [['D', 'A', 'B'], ['D', 'A', 'C', 'B'], ['D', 'B']],\n",
       "  'C': [['D', 'A', 'B', 'C'],\n",
       "   ['D', 'A', 'C'],\n",
       "   ['D', 'B', 'A', 'C'],\n",
       "   ['D', 'B', 'C']]}}"
      ]
     },
     "execution_count": 8,
     "metadata": {},
     "output_type": "execute_result"
    }
   ],
   "source": [
    "paths"
   ]
  },
  {
   "cell_type": "code",
   "execution_count": 23,
   "metadata": {},
   "outputs": [
    {
     "name": "stdout",
     "output_type": "stream",
     "text": [
      "['A', 'B']\n",
      "['A', 'C', 'B']\n",
      "['A', 'D', 'B']\n"
     ]
    }
   ],
   "source": [
    "x = nx.all_simple_paths(graph,\"A\",\"B\",cutoff=5)\n",
    "for path in x:\n",
    "    print(path)\n"
   ]
  },
  {
   "cell_type": "markdown",
   "metadata": {},
   "source": [
    "# TODOS:\n",
    "\n",
    "* account fees\n",
    "* add strategies"
   ]
  },
  {
   "cell_type": "code",
   "execution_count": 13,
   "metadata": {},
   "outputs": [
    {
     "data": {
      "text/plain": [
       "0.63072"
      ]
     },
     "execution_count": 13,
     "metadata": {},
     "output_type": "execute_result"
    }
   ],
   "source": [
    "0.002 * 1_000 * 3600*24 * 365 / 100_000_000\n"
   ]
  },
  {
   "cell_type": "code",
   "execution_count": 14,
   "metadata": {},
   "outputs": [
    {
     "data": {
      "text/plain": [
       "46.8"
      ]
     },
     "execution_count": 14,
     "metadata": {},
     "output_type": "execute_result"
    }
   ],
   "source": [
    "3.9*12"
   ]
  },
  {
   "cell_type": "code",
   "execution_count": null,
   "metadata": {},
   "outputs": [],
   "source": []
  }
 ],
 "metadata": {
  "kernelspec": {
   "display_name": "Python 3",
   "language": "python",
   "name": "python3"
  },
  "language_info": {
   "codemirror_mode": {
    "name": "ipython",
    "version": 3
   },
   "file_extension": ".py",
   "mimetype": "text/x-python",
   "name": "python",
   "nbconvert_exporter": "python",
   "pygments_lexer": "ipython3",
   "version": "3.8.3"
  }
 },
 "nbformat": 4,
 "nbformat_minor": 4
}
